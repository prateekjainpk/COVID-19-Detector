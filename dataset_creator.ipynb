{
 "cells": [
  {
   "cell_type": "code",
   "execution_count": 1,
   "metadata": {},
   "outputs": [],
   "source": [
    "import pandas as pd\n",
    "import os\n",
    "import shutil"
   ]
  },
  {
   "cell_type": "code",
   "execution_count": 2,
   "metadata": {},
   "outputs": [],
   "source": [
    "# Crate the data for positive samples (Github)\n",
    "\n",
    "FILE_PATH = \"COVID-19/chestxray/metadata.csv\"\n",
    "IMAGES_PATH = \"COVID-19/chestxray/images\"\n",
    "\n",
    "df = pd.read_csv(FILE_PATH)"
   ]
  },
  {
   "cell_type": "code",
   "execution_count": 4,
   "metadata": {},
   "outputs": [
    {
     "name": "stdout",
     "output_type": "stream",
     "text": [
      "Covid folder created\n"
     ]
    }
   ],
   "source": [
    "TARGET_DIR = \"COVID-19/Dataset/Covid\"\n",
    "\n",
    "if not os.path.exists(TARGET_DIR):\n",
    "  os.mkdir(TARGET_DIR)\n",
    "  print(\"Covid folder created\")"
   ]
  },
  {
   "cell_type": "code",
   "execution_count": 7,
   "metadata": {},
   "outputs": [
    {
     "name": "stdout",
     "output_type": "stream",
     "text": [
      "142\n"
     ]
    }
   ],
   "source": [
    "cnt = 0\n",
    "\n",
    "for (i,row) in df.iterrows():\n",
    "  if row[\"finding\"] == \"COVID-19\" and row[\"view\"]==\"PA\":\n",
    "    filename = row['filename']\n",
    "    image_path = os.path.join(IMAGES_PATH,filename)\n",
    "    image_copy_path = os.path.join(TARGET_DIR,filename)\n",
    "    shutil.copy2(image_path,image_copy_path)\n",
    "    # print(\"Moving image\",cnt)\n",
    "    cnt += 1\n",
    "\n",
    "print(cnt)"
   ]
  },
  {
   "cell_type": "code",
   "execution_count": 10,
   "metadata": {},
   "outputs": [],
   "source": [
    "# Sampling of Images from Kaggle\n",
    "\n",
    "import random\n",
    "KAGGLE_FILE_PATH = \"COVID-19/chest_xray_kaggle/train/NORMAL\"\n",
    "TARGET_NORMAL_DIR = \"COVID-19/Dataset/Normal\""
   ]
  },
  {
   "cell_type": "code",
   "execution_count": 11,
   "metadata": {},
   "outputs": [],
   "source": [
    "image_names = os.listdir(KAGGLE_FILE_PATH)\n",
    "random.shuffle(image_names)"
   ]
  },
  {
   "cell_type": "code",
   "execution_count": 13,
   "metadata": {},
   "outputs": [
    {
     "name": "stdout",
     "output_type": "stream",
     "text": [
      "Copying image 0\n",
      "Copying image 1\n",
      "Copying image 2\n",
      "Copying image 3\n",
      "Copying image 4\n",
      "Copying image 5\n",
      "Copying image 6\n",
      "Copying image 7\n",
      "Copying image 8\n",
      "Copying image 9\n",
      "Copying image 10\n",
      "Copying image 11\n",
      "Copying image 12\n",
      "Copying image 13\n",
      "Copying image 14\n",
      "Copying image 15\n",
      "Copying image 16\n",
      "Copying image 17\n",
      "Copying image 18\n",
      "Copying image 19\n",
      "Copying image 20\n",
      "Copying image 21\n",
      "Copying image 22\n",
      "Copying image 23\n",
      "Copying image 24\n",
      "Copying image 25\n",
      "Copying image 26\n",
      "Copying image 27\n",
      "Copying image 28\n",
      "Copying image 29\n",
      "Copying image 30\n",
      "Copying image 31\n",
      "Copying image 32\n",
      "Copying image 33\n",
      "Copying image 34\n",
      "Copying image 35\n",
      "Copying image 36\n",
      "Copying image 37\n",
      "Copying image 38\n",
      "Copying image 39\n",
      "Copying image 40\n",
      "Copying image 41\n",
      "Copying image 42\n",
      "Copying image 43\n",
      "Copying image 44\n",
      "Copying image 45\n",
      "Copying image 46\n",
      "Copying image 47\n",
      "Copying image 48\n",
      "Copying image 49\n",
      "Copying image 50\n",
      "Copying image 51\n",
      "Copying image 52\n",
      "Copying image 53\n",
      "Copying image 54\n",
      "Copying image 55\n",
      "Copying image 56\n",
      "Copying image 57\n",
      "Copying image 58\n",
      "Copying image 59\n",
      "Copying image 60\n",
      "Copying image 61\n",
      "Copying image 62\n",
      "Copying image 63\n",
      "Copying image 64\n",
      "Copying image 65\n",
      "Copying image 66\n",
      "Copying image 67\n",
      "Copying image 68\n",
      "Copying image 69\n",
      "Copying image 70\n",
      "Copying image 71\n",
      "Copying image 72\n",
      "Copying image 73\n",
      "Copying image 74\n",
      "Copying image 75\n",
      "Copying image 76\n",
      "Copying image 77\n",
      "Copying image 78\n",
      "Copying image 79\n",
      "Copying image 80\n",
      "Copying image 81\n",
      "Copying image 82\n",
      "Copying image 83\n",
      "Copying image 84\n",
      "Copying image 85\n",
      "Copying image 86\n",
      "Copying image 87\n",
      "Copying image 88\n",
      "Copying image 89\n",
      "Copying image 90\n",
      "Copying image 91\n",
      "Copying image 92\n",
      "Copying image 93\n",
      "Copying image 94\n",
      "Copying image 95\n",
      "Copying image 96\n",
      "Copying image 97\n",
      "Copying image 98\n",
      "Copying image 99\n",
      "Copying image 100\n",
      "Copying image 101\n",
      "Copying image 102\n",
      "Copying image 103\n",
      "Copying image 104\n",
      "Copying image 105\n",
      "Copying image 106\n",
      "Copying image 107\n",
      "Copying image 108\n",
      "Copying image 109\n",
      "Copying image 110\n",
      "Copying image 111\n",
      "Copying image 112\n",
      "Copying image 113\n",
      "Copying image 114\n",
      "Copying image 115\n",
      "Copying image 116\n",
      "Copying image 117\n",
      "Copying image 118\n",
      "Copying image 119\n",
      "Copying image 120\n",
      "Copying image 121\n",
      "Copying image 122\n",
      "Copying image 123\n",
      "Copying image 124\n",
      "Copying image 125\n",
      "Copying image 126\n",
      "Copying image 127\n",
      "Copying image 128\n",
      "Copying image 129\n",
      "Copying image 130\n",
      "Copying image 131\n",
      "Copying image 132\n",
      "Copying image 133\n",
      "Copying image 134\n",
      "Copying image 135\n",
      "Copying image 136\n",
      "Copying image 137\n",
      "Copying image 138\n",
      "Copying image 139\n",
      "Copying image 140\n",
      "Copying image 141\n"
     ]
    }
   ],
   "source": [
    "for i in range(142):\n",
    "  image_name = image_names[i]\n",
    "  image_path = os.path.join(KAGGLE_FILE_PATH, image_name)\n",
    "\n",
    "  target_path = os.path.join(TARGET_NORMAL_DIR,image_name)\n",
    "  shutil.copy2(image_path,target_path)\n",
    "  print(\"Copying image\", i)"
   ]
  },
  {
   "cell_type": "code",
   "execution_count": null,
   "metadata": {},
   "outputs": [],
   "source": []
  },
  {
   "cell_type": "code",
   "execution_count": null,
   "metadata": {},
   "outputs": [],
   "source": []
  }
 ],
 "metadata": {
  "kernelspec": {
   "display_name": "Python 3",
   "language": "python",
   "name": "python3"
  },
  "language_info": {
   "codemirror_mode": {
    "name": "ipython",
    "version": 3
   },
   "file_extension": ".py",
   "mimetype": "text/x-python",
   "name": "python",
   "nbconvert_exporter": "python",
   "pygments_lexer": "ipython3",
   "version": "3.7.4"
  }
 },
 "nbformat": 4,
 "nbformat_minor": 4
}
